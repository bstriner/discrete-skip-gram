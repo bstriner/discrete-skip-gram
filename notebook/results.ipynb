{
 "cells": [
  {
   "cell_type": "markdown",
   "metadata": {
    "collapsed": true
   },
   "source": [
    "# Results\n",
    "All graphs and results. For discussion please read associated paper."
   ]
  },
  {
   "cell_type": "code",
   "execution_count": 8,
   "metadata": {
    "collapsed": true
   },
   "outputs": [],
   "source": [
    "# Imports for the rest of the notebook\n",
    "import numpy as np\n",
    "import matplotlib.pyplot as plt\n",
    "from IPython.display import display, HTML\n",
    "from discrete_skip_gram.util import stats_string\n",
    "from tabulate import tabulate\n",
    "eps = 1e-9"
   ]
  },
  {
   "cell_type": "markdown",
   "metadata": {},
   "source": [
    "## Cooccurrence matrix\n",
    "\n",
    "Import precalculated cooccurrence matrix generated from Brown corpus.\n",
    "\n",
    "Calculate marginal and conditional entropy."
   ]
  },
  {
   "cell_type": "code",
   "execution_count": 9,
   "metadata": {},
   "outputs": [
    {
     "name": "stdout",
     "output_type": "stream",
     "text": [
      "Shape of cooccurrence matrix is (4946L, 4946L)\n"
     ]
    }
   ],
   "source": [
    "# Load and normalize cooccurrence matrix\n",
    "coo = np.load('../experiments/output/cooccurrence.npy').astype(np.float32)\n",
    "p = coo / np.sum(coo, axis=None)\n",
    "print('Shape of cooccurrence matrix is {}'.format(p.shape))"
   ]
  },
  {
   "cell_type": "code",
   "execution_count": 10,
   "metadata": {},
   "outputs": [
    {
     "name": "stdout",
     "output_type": "stream",
     "text": [
      "Marginal entropy is 5.91309642792\n"
     ]
    }
   ],
   "source": [
    "# Calculate marginal entropy (unigram)\n",
    "marginal = np.sum(p, axis=1, keepdims=True)\n",
    "marginal_nll = np.sum(marginal * -np.log(marginal+eps), axis=None) # E(x) = p(x)*log(p(x))\n",
    "print('Marginal entropy is {}'.format(marginal_nll))"
   ]
  },
  {
   "cell_type": "code",
   "execution_count": 11,
   "metadata": {},
   "outputs": [
    {
     "name": "stdout",
     "output_type": "stream",
     "text": [
      "Conditional entropy is 5.32560062408\n"
     ]
    }
   ],
   "source": [
    "# Calculate conditional entropy (skipgram)\n",
    "conditional = p / marginal\n",
    "conditional_nll = np.sum(p * -np.log(conditional+eps), axis=None) # H(y|x) = p(x,y)*log(p(y|x))\n",
    "print('Conditional entropy is {}'.format(conditional_nll))"
   ]
  },
  {
   "cell_type": "markdown",
   "metadata": {},
   "source": [
    "## Baseline Skipgram Models\n",
    "\n",
    "Train baseline skipgram models with different numbers of hidden units (`p=softmax(xW+b)`, `loss=expected(-log(p))`).\n",
    "\n",
    "Performance with few units approaches the analytically calculated marginal entropy.\n",
    "\n",
    "Performance with many units approaches the calculated conditional entropy."
   ]
  },
  {
   "cell_type": "markdown",
   "metadata": {},
   "source": [
    "## Binary Models\n",
    "\n",
    "Experiment with models that divide the vocabulary into two groups and attempt to minimize the conditional entropy of those groups."
   ]
  },
  {
   "cell_type": "code",
   "execution_count": null,
   "metadata": {
    "collapsed": true
   },
   "outputs": [],
   "source": [
    "Flat Models"
   ]
  },
  {
   "cell_type": "markdown",
   "metadata": {},
   "source": [
    "Skipgram model"
   ]
  },
  {
   "cell_type": "markdown",
   "metadata": {},
   "source": [
    "Random assignment"
   ]
  },
  {
   "cell_type": "code",
   "execution_count": 5,
   "metadata": {},
   "outputs": [
    {
     "name": "stdout",
     "output_type": "stream",
     "text": [
      "Iterations: 100\n"
     ]
    },
    {
     "data": {
      "image/png": "[encoded data removed]",
      "text/plain": [
       "<matplotlib.figure.Figure at 0x7881eb8>"
      ]
     },
     "metadata": {},
     "output_type": "display_data"
    },
    {
     "data": {
      "text/html": [
       "<table>\n",
       "<thead>\n",
       "<tr><th style=\"text-align: right;\">   K</th><th style=\"text-align: right;\">  Mean NLL</th><th style=\"text-align: right;\">        Std</th></tr>\n",
       "</thead>\n",
       "<tbody>\n",
       "<tr><td style=\"text-align: right;\">   2</td><td style=\"text-align: right;\">   5.91089</td><td style=\"text-align: right;\">0.000353488</td></tr>\n",
       "<tr><td style=\"text-align: right;\">   4</td><td style=\"text-align: right;\">   5.90664</td><td style=\"text-align: right;\">0.000643125</td></tr>\n",
       "<tr><td style=\"text-align: right;\">   8</td><td style=\"text-align: right;\">   5.89946</td><td style=\"text-align: right;\">0.000901418</td></tr>\n",
       "<tr><td style=\"text-align: right;\">  16</td><td style=\"text-align: right;\">   5.88777</td><td style=\"text-align: right;\">0.00140333 </td></tr>\n",
       "<tr><td style=\"text-align: right;\">  32</td><td style=\"text-align: right;\">   5.86821</td><td style=\"text-align: right;\">0.00143286 </td></tr>\n",
       "<tr><td style=\"text-align: right;\">  64</td><td style=\"text-align: right;\">   5.83775</td><td style=\"text-align: right;\">0.00177347 </td></tr>\n",
       "<tr><td style=\"text-align: right;\"> 128</td><td style=\"text-align: right;\">   5.79114</td><td style=\"text-align: right;\">0.00181084 </td></tr>\n",
       "<tr><td style=\"text-align: right;\"> 256</td><td style=\"text-align: right;\">   5.72796</td><td style=\"text-align: right;\">0.00172552 </td></tr>\n",
       "<tr><td style=\"text-align: right;\"> 512</td><td style=\"text-align: right;\">   5.65055</td><td style=\"text-align: right;\">0.00197066 </td></tr>\n",
       "<tr><td style=\"text-align: right;\">1024</td><td style=\"text-align: right;\">   5.56641</td><td style=\"text-align: right;\">0.00180625 </td></tr>\n",
       "</tbody>\n",
       "</table>"
      ],
      "text/plain": [
       "<IPython.core.display.HTML object>"
      ]
     },
     "execution_count": 5,
     "metadata": {},
     "output_type": "execute_result"
    }
   ],
   "source": [
    "random = np.load('../experiments/output/skipgram_flat_random.npz')\n",
    "print('Iterations: {}'.format(random['nlls'].shape[1]))\n",
    "mean = np.mean(random['nlls'], axis=1)\n",
    "std = np.std(random['nlls'], axis=1)\n",
    "plt.errorbar(random['z_ks'], mean, yerr=std, markersize=3, fmt='-o')\n",
    "plt.title('Performance of random flat encoding')\n",
    "plt.ylabel('NLL')\n",
    "plt.xlabel('k')\n",
    "plt.xlim(2,1024)\n",
    "plt.show()\n",
    "t = np.stack([random['z_ks'], mean, std], axis=1)\n",
    "HTML(tabulate(t, tablefmt='html', headers=['K', 'Mean NLL', 'Std']))"
   ]
  },
  {
   "cell_type": "code",
   "execution_count": null,
   "metadata": {
    "collapsed": true
   },
   "outputs": [],
   "source": [
    "Flat model"
   ]
  },
  {
   "cell_type": "code",
   "execution_count": 6,
   "metadata": {
    "scrolled": true
   },
   "outputs": [
    {
     "name": "stdout",
     "output_type": "stream",
     "text": [
      "Flat NLL: Mean 5.5480435445, Std 0.000778813805342, Min 5.54713744241, Max 5.54945816655, N 5\n",
      "Flat Utilization: Mean 809.4, Std 4.8, Min 804, Max 816, N 5\n"
     ]
    }
   ],
   "source": [
    "flat = np.load('../experiments/output/skipgram_flat.npz')\n",
    "print(\"Flat NLL: {}\".format(stats_string(flat['nlls'])))\n",
    "print(\"Flat Utilization: {}\".format(stats_string(flat['utilizations'])))"
   ]
  },
  {
   "cell_type": "code",
   "execution_count": null,
   "metadata": {
    "collapsed": true
   },
   "outputs": [],
   "source": [
    "Flat model with regularization"
   ]
  },
  {
   "cell_type": "code",
   "execution_count": 7,
   "metadata": {
    "scrolled": false
   },
   "outputs": [
    {
     "name": "stdout",
     "output_type": "stream",
     "text": [
      "Iterations: 50\n"
     ]
    },
    {
     "data": {
      "image/png": "[encoded data removed]",
      "text/plain": [
       "<matplotlib.figure.Figure at 0x7a3dd68>"
      ]
     },
     "metadata": {},
     "output_type": "display_data"
    },
    {
     "data": {
      "text/html": [
       "<table>\n",
       "<thead>\n",
       "<tr><th style=\"text-align: right;\">  Depth</th><th style=\"text-align: right;\">  Mean NLL</th><th style=\"text-align: right;\">        Std</th></tr>\n",
       "</thead>\n",
       "<tbody>\n",
       "<tr><td style=\"text-align: right;\">      1</td><td style=\"text-align: right;\">   5.91088</td><td style=\"text-align: right;\">0.000436061</td></tr>\n",
       "<tr><td style=\"text-align: right;\">      2</td><td style=\"text-align: right;\">   5.90671</td><td style=\"text-align: right;\">0.000568841</td></tr>\n",
       "<tr><td style=\"text-align: right;\">      3</td><td style=\"text-align: right;\">   5.89945</td><td style=\"text-align: right;\">0.000856081</td></tr>\n",
       "<tr><td style=\"text-align: right;\">      4</td><td style=\"text-align: right;\">   5.8875 </td><td style=\"text-align: right;\">0.00120805 </td></tr>\n",
       "<tr><td style=\"text-align: right;\">      5</td><td style=\"text-align: right;\">   5.86835</td><td style=\"text-align: right;\">0.00146809 </td></tr>\n",
       "<tr><td style=\"text-align: right;\">      6</td><td style=\"text-align: right;\">   5.83765</td><td style=\"text-align: right;\">0.00168684 </td></tr>\n",
       "<tr><td style=\"text-align: right;\">      7</td><td style=\"text-align: right;\">   5.7916 </td><td style=\"text-align: right;\">0.00197922 </td></tr>\n",
       "<tr><td style=\"text-align: right;\">      8</td><td style=\"text-align: right;\">   5.72817</td><td style=\"text-align: right;\">0.00191247 </td></tr>\n",
       "<tr><td style=\"text-align: right;\">      9</td><td style=\"text-align: right;\">   5.65073</td><td style=\"text-align: right;\">0.00187701 </td></tr>\n",
       "<tr><td style=\"text-align: right;\">     10</td><td style=\"text-align: right;\">   5.56624</td><td style=\"text-align: right;\">0.00149767 </td></tr>\n",
       "</tbody>\n",
       "</table>"
      ],
      "text/plain": [
       "<IPython.core.display.HTML object>"
      ]
     },
     "execution_count": 7,
     "metadata": {},
     "output_type": "execute_result"
    }
   ],
   "source": [
    "tree_random = np.load('../experiments/output/skipgram_tree_random.npz')\n",
    "print('Iterations: {}'.format(tree_random['nlls'].shape[0]))\n",
    "mean = np.mean(tree_random['nlls'], axis=0)\n",
    "std = np.std(tree_random['nlls'], axis=0)\n",
    "plt.errorbar(np.arange(1,11), mean, yerr=std, markersize=3, fmt='-o')\n",
    "plt.title('Performance of random tree encoding')\n",
    "plt.ylabel('NLL')\n",
    "plt.xlabel('Depth')\n",
    "plt.xlim(1,10)\n",
    "plt.show()\n",
    "t = np.stack([np.arange(1,11), mean, std], axis=1)\n",
    "HTML(tabulate(t, tablefmt='html', headers=['Depth','Mean NLL', 'Std']))"
   ]
  },
  {
   "cell_type": "code",
   "execution_count": null,
   "metadata": {
    "collapsed": true
   },
   "outputs": [],
   "source": []
  },
  {
   "cell_type": "code",
   "execution_count": null,
   "metadata": {
    "collapsed": true
   },
   "outputs": [],
   "source": []
  }
 ],
 "metadata": {
  "kernelspec": {
   "display_name": "Python 2",
   "language": "python",
   "name": "python2"
  },
  "language_info": {
   "codemirror_mode": {
    "name": "ipython",
    "version": 2
   },
   "file_extension": ".py",
   "mimetype": "text/x-python",
   "name": "python",
   "nbconvert_exporter": "python",
   "pygments_lexer": "ipython2",
   "version": "2.7.13"
  }
 },
 "nbformat": 4,
 "nbformat_minor": 2
}
