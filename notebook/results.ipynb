{
 "cells": [
  {
   "cell_type": "markdown",
   "metadata": {
    "collapsed": true
   },
   "source": [
    "# Results\n",
    "All graphs and results. For discussion please read associated paper."
   ]
  },
  {
   "cell_type": "code",
   "execution_count": 15,
   "metadata": {
    "collapsed": true
   },
   "outputs": [],
   "source": [
    "# Imports for the rest of the notebook\n",
    "import numpy as np\n",
    "import matplotlib.pyplot as plt\n",
    "from IPython.display import display, HTML\n",
    "from discrete_skip_gram.util import stats_string\n",
    "from tabulate import tabulate\n",
    "def load_output(path):\n",
    "    return np.load('../experiments/output/{}'.format(path))\n",
    "eps = 1e-9"
   ]
  },
  {
   "cell_type": "markdown",
   "metadata": {},
   "source": [
    "## Cooccurrence matrix\n",
    "\n",
    "Import precalculated cooccurrence matrix generated from Brown corpus.\n",
    "\n",
    "Calculate marginal and conditional entropy."
   ]
  },
  {
   "cell_type": "code",
   "execution_count": 34,
   "metadata": {},
   "outputs": [
    {
     "name": "stdout",
     "output_type": "stream",
     "text": [
      "Shape of cooccurrence matrix is (4946L, 4946L)\n"
     ]
    }
   ],
   "source": [
    "# Load and normalize cooccurrence matrix\n",
    "coo = load_output('cooccurrence.npy').astype(np.float32)\n",
    "p = coo / np.sum(coo, axis=None)\n",
    "print('Shape of cooccurrence matrix is {}'.format(p.shape))"
   ]
  },
  {
   "cell_type": "code",
   "execution_count": 4,
   "metadata": {},
   "outputs": [
    {
     "name": "stdout",
     "output_type": "stream",
     "text": [
      "Marginal entropy is 5.91309642792\n"
     ]
    }
   ],
   "source": [
    "# Calculate marginal entropy (unigram)\n",
    "marginal = np.sum(p, axis=1, keepdims=True)\n",
    "marginal_nll = np.sum(marginal * -np.log(marginal+eps), axis=None) # E(x) = p(x)*log(p(x))\n",
    "print('Marginal entropy is {}'.format(marginal_nll))"
   ]
  },
  {
   "cell_type": "code",
   "execution_count": 5,
   "metadata": {},
   "outputs": [
    {
     "name": "stdout",
     "output_type": "stream",
     "text": [
      "Conditional entropy is 5.32560062408\n"
     ]
    }
   ],
   "source": [
    "# Calculate conditional entropy (skipgram)\n",
    "conditional = p / marginal\n",
    "conditional_nll = np.sum(p * -np.log(conditional+eps), axis=None) # H(y|x) = p(x,y)*log(p(y|x))\n",
    "print('Conditional entropy is {}'.format(conditional_nll))"
   ]
  },
  {
   "cell_type": "markdown",
   "metadata": {},
   "source": [
    "## Random Baseline\n",
    "Randomly cluster the vocabulary and calculate the conditional entropy of the clusters. Conditional entropy decreases as the number of clusters increases.\n",
    "\n",
    "Cluster the vocabulary into a random binary tree and calculate the conditional entropy of each level of the tree. Conditional entropy decreases as the depth of the tree increases."
   ]
  },
  {
   "cell_type": "code",
   "execution_count": 30,
   "metadata": {},
   "outputs": [
    {
     "name": "stdout",
     "output_type": "stream",
     "text": [
      "Iterations: 100\n"
     ]
    },
    {
     "data": {
      "image/png": "[encoded data removed]",
      "text/plain": [
       "<matplotlib.figure.Figure at 0x1b446278>"
      ]
     },
     "metadata": {},
     "output_type": "display_data"
    },
    {
     "data": {
      "text/html": [
       "<table>\n",
       "<thead>\n",
       "<tr><th style=\"text-align: right;\">  Number of Clusters</th><th style=\"text-align: right;\">  Mean Conditional Entropy</th><th style=\"text-align: right;\">        Std</th></tr>\n",
       "</thead>\n",
       "<tbody>\n",
       "<tr><td style=\"text-align: right;\">                   2</td><td style=\"text-align: right;\">                   5.91089</td><td style=\"text-align: right;\">0.000353488</td></tr>\n",
       "<tr><td style=\"text-align: right;\">                   4</td><td style=\"text-align: right;\">                   5.90664</td><td style=\"text-align: right;\">0.000643125</td></tr>\n",
       "<tr><td style=\"text-align: right;\">                   8</td><td style=\"text-align: right;\">                   5.89946</td><td style=\"text-align: right;\">0.000901418</td></tr>\n",
       "<tr><td style=\"text-align: right;\">                  16</td><td style=\"text-align: right;\">                   5.88777</td><td style=\"text-align: right;\">0.00140333 </td></tr>\n",
       "<tr><td style=\"text-align: right;\">                  32</td><td style=\"text-align: right;\">                   5.86821</td><td style=\"text-align: right;\">0.00143286 </td></tr>\n",
       "<tr><td style=\"text-align: right;\">                  64</td><td style=\"text-align: right;\">                   5.83775</td><td style=\"text-align: right;\">0.00177347 </td></tr>\n",
       "<tr><td style=\"text-align: right;\">                 128</td><td style=\"text-align: right;\">                   5.79114</td><td style=\"text-align: right;\">0.00181084 </td></tr>\n",
       "<tr><td style=\"text-align: right;\">                 256</td><td style=\"text-align: right;\">                   5.72796</td><td style=\"text-align: right;\">0.00172552 </td></tr>\n",
       "<tr><td style=\"text-align: right;\">                 512</td><td style=\"text-align: right;\">                   5.65055</td><td style=\"text-align: right;\">0.00197066 </td></tr>\n",
       "<tr><td style=\"text-align: right;\">                1024</td><td style=\"text-align: right;\">                   5.56641</td><td style=\"text-align: right;\">0.00180625 </td></tr>\n",
       "</tbody>\n",
       "</table>"
      ],
      "text/plain": [
       "<IPython.core.display.HTML object>"
      ]
     },
     "execution_count": 30,
     "metadata": {},
     "output_type": "execute_result"
    }
   ],
   "source": [
    "# Random flat encodings with different numbers of clusters\n",
    "random = load_output('skipgram_flat_random.npz')\n",
    "print('Iterations: {}'.format(random['nlls'].shape[1]))\n",
    "# Plot entropy by number of clusters\n",
    "mean = np.mean(random['nlls'], axis=1)\n",
    "std = np.std(random['nlls'], axis=1)\n",
    "plt.errorbar(random['z_ks'], mean, yerr=std, markersize=3, fmt='-o')\n",
    "plt.title('Random Flat Encoding')\n",
    "plt.ylabel('Conditional Entropy')\n",
    "plt.xlabel('Number of Clusters')\n",
    "plt.xlim(2, 1024)\n",
    "plt.show()\n",
    "# Tabulate entropy by number of clusters\n",
    "t = np.stack([random['z_ks'], mean, std], axis=1)\n",
    "HTML(tabulate(t, tablefmt='html', headers=['Number of Clusters', 'Mean Conditional Entropy', 'Std']))"
   ]
  },
  {
   "cell_type": "code",
   "execution_count": 31,
   "metadata": {
    "scrolled": false
   },
   "outputs": [
    {
     "name": "stdout",
     "output_type": "stream",
     "text": [
      "Iterations: 50\n"
     ]
    },
    {
     "data": {
      "image/png": "[encoded data removed]",
      "text/plain": [
       "<matplotlib.figure.Figure at 0x7d55780>"
      ]
     },
     "metadata": {},
     "output_type": "display_data"
    },
    {
     "data": {
      "text/html": [
       "<table>\n",
       "<thead>\n",
       "<tr><th style=\"text-align: right;\">  Tree Depth</th><th style=\"text-align: right;\">  Mean Conditional Entropy</th><th style=\"text-align: right;\">        Std</th></tr>\n",
       "</thead>\n",
       "<tbody>\n",
       "<tr><td style=\"text-align: right;\">           1</td><td style=\"text-align: right;\">                   5.91088</td><td style=\"text-align: right;\">0.000436061</td></tr>\n",
       "<tr><td style=\"text-align: right;\">           2</td><td style=\"text-align: right;\">                   5.90671</td><td style=\"text-align: right;\">0.000568841</td></tr>\n",
       "<tr><td style=\"text-align: right;\">           3</td><td style=\"text-align: right;\">                   5.89945</td><td style=\"text-align: right;\">0.000856081</td></tr>\n",
       "<tr><td style=\"text-align: right;\">           4</td><td style=\"text-align: right;\">                   5.8875 </td><td style=\"text-align: right;\">0.00120805 </td></tr>\n",
       "<tr><td style=\"text-align: right;\">           5</td><td style=\"text-align: right;\">                   5.86835</td><td style=\"text-align: right;\">0.00146809 </td></tr>\n",
       "<tr><td style=\"text-align: right;\">           6</td><td style=\"text-align: right;\">                   5.83765</td><td style=\"text-align: right;\">0.00168684 </td></tr>\n",
       "<tr><td style=\"text-align: right;\">           7</td><td style=\"text-align: right;\">                   5.7916 </td><td style=\"text-align: right;\">0.00197922 </td></tr>\n",
       "<tr><td style=\"text-align: right;\">           8</td><td style=\"text-align: right;\">                   5.72817</td><td style=\"text-align: right;\">0.00191247 </td></tr>\n",
       "<tr><td style=\"text-align: right;\">           9</td><td style=\"text-align: right;\">                   5.65073</td><td style=\"text-align: right;\">0.00187701 </td></tr>\n",
       "<tr><td style=\"text-align: right;\">          10</td><td style=\"text-align: right;\">                   5.56624</td><td style=\"text-align: right;\">0.00149767 </td></tr>\n",
       "</tbody>\n",
       "</table>"
      ],
      "text/plain": [
       "<IPython.core.display.HTML object>"
      ]
     },
     "execution_count": 31,
     "metadata": {},
     "output_type": "execute_result"
    }
   ],
   "source": [
    "# Random tree encoding\n",
    "tree_random = load_output('skipgram_tree_random.npz')\n",
    "print('Iterations: {}'.format(tree_random['nlls'].shape[0]))\n",
    "# Plot entropy by depth\n",
    "mean = np.mean(tree_random['nlls'], axis=0)\n",
    "std = np.std(tree_random['nlls'], axis=0)\n",
    "plt.errorbar(np.arange(1,11), mean, yerr=std, markersize=3, fmt='-o')\n",
    "plt.title('Random Binary Tree Encoding')\n",
    "plt.ylabel('Conditional Entropy')\n",
    "plt.xlabel('Tree Depth')\n",
    "plt.xlim(1,10)\n",
    "plt.show()\n",
    "# Tabulate entropy by depth\n",
    "t = np.stack([np.arange(1,11), mean, std], axis=1)\n",
    "HTML(tabulate(t, tablefmt='html', headers=['Tree Depth','Mean Conditional Entropy', 'Std']))"
   ]
  },
  {
   "cell_type": "markdown",
   "metadata": {},
   "source": [
    "## Baseline Skipgram Models\n",
    "\n",
    "Train baseline skipgram models with different numbers of hidden units (`p=softmax(xW+b)`, `loss=expected(-log(p))`).\n",
    "\n",
    "Performance with few units approaches the analytically calculated marginal entropy.\n",
    "\n",
    "Performance with many units approaches the calculated conditional entropy."
   ]
  },
  {
   "cell_type": "code",
   "execution_count": null,
   "metadata": {
    "collapsed": true
   },
   "outputs": [],
   "source": []
  },
  {
   "cell_type": "markdown",
   "metadata": {},
   "source": [
    "## Binary Models\n",
    "\n",
    "Experiments with models that cluster the vocabulary into two groups and attempt to minimize the conditional entropy of those clusters."
   ]
  },
  {
   "cell_type": "markdown",
   "metadata": {
    "collapsed": true
   },
   "source": [
    "## Flat Models (k=1024)\n",
    "Experiments with models that cluster the vocabulary into 1024 groups (`2**10`) and attempt to minimize the conditional entropy of the clusters."
   ]
  },
  {
   "cell_type": "markdown",
   "metadata": {},
   "source": [
    "Skipgram model"
   ]
  },
  {
   "cell_type": "markdown",
   "metadata": {},
   "source": [
    "Random assignment"
   ]
  },
  {
   "cell_type": "markdown",
   "metadata": {
    "collapsed": true
   },
   "source": [
    "## Flat models"
   ]
  },
  {
   "cell_type": "code",
   "execution_count": 32,
   "metadata": {
    "scrolled": true
   },
   "outputs": [
    {
     "name": "stdout",
     "output_type": "stream",
     "text": [
      "Flat NLL: Mean 5.5480435445, Std 0.000778813805342, Min 5.54713744241, Max 5.54945816655, N 5\n",
      "Flat Utilization: Mean 809.4, Std 4.8, Min 804, Max 816, N 5\n"
     ]
    }
   ],
   "source": [
    "flat = load_output('skipgram_flat.npz')\n",
    "print(\"Flat NLL: {}\".format(stats_string(flat['nlls'])))\n",
    "print(\"Flat Utilization: {}\".format(stats_string(flat['utilizations'])))"
   ]
  },
  {
   "cell_type": "markdown",
   "metadata": {
    "collapsed": true
   },
   "source": [
    "Flat model with regularization"
   ]
  },
  {
   "cell_type": "code",
   "execution_count": 35,
   "metadata": {},
   "outputs": [
    {
     "data": {
      "image/png": "[encoded data removed]",
      "text/plain": [
       "<matplotlib.figure.Figure at 0x1a730780>"
      ]
     },
     "metadata": {},
     "output_type": "display_data"
    },
    {
     "data": {
      "image/png": "[encoded data removed]",
      "text/plain": [
       "<matplotlib.figure.Figure at 0x1ab31240>"
      ]
     },
     "metadata": {},
     "output_type": "display_data"
    }
   ],
   "source": [
    "# Flat model with balance regularizer\n",
    "flat_b = load_output('skipgram_flat-b.npz')\n",
    "# plot NLL by regularization weight\n",
    "mean = np.mean(flat_b['nlls'], axis=1)\n",
    "x = np.log10(flat_b['weights'])\n",
    "plt.plot(x, mean, markersize=3, marker='o')\n",
    "plt.ylabel('NLL')\n",
    "plt.xlabel('Weight')\n",
    "plt.show()\n",
    "meanu = np.mean(flat_b['utilizations'], axis=1)\n",
    "plt.plot(x, meanu, markersize=3, marker='o')\n",
    "plt.ylabel('Utilization')\n",
    "plt.xlabel('Weight')\n",
    "plt.ylim(None, 1024)\n",
    "plt.show()"
   ]
  },
  {
   "cell_type": "code",
   "execution_count": null,
   "metadata": {
    "collapsed": true
   },
   "outputs": [],
   "source": []
  },
  {
   "cell_type": "code",
   "execution_count": null,
   "metadata": {
    "collapsed": true
   },
   "outputs": [],
   "source": []
  }
 ],
 "metadata": {
  "kernelspec": {
   "display_name": "Python 2",
   "language": "python",
   "name": "python2"
  },
  "language_info": {
   "codemirror_mode": {
    "name": "ipython",
    "version": 2
   },
   "file_extension": ".py",
   "mimetype": "text/x-python",
   "name": "python",
   "nbconvert_exporter": "python",
   "pygments_lexer": "ipython2",
   "version": "2.7.13"
  }
 },
 "nbformat": 4,
 "nbformat_minor": 2
}
